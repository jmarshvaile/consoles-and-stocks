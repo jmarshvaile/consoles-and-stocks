{
 "cells": [
  {
   "cell_type": "code",
   "execution_count": 1,
   "metadata": {},
   "outputs": [],
   "source": [
    "import pandas as pd\n",
    "import requests\n",
    "from bs4 import BeautifulSoup"
   ]
  },
  {
   "cell_type": "code",
   "execution_count": 2,
   "metadata": {},
   "outputs": [],
   "source": [
    "console_generations = {'genonecon':'Generation 1', \n",
    "                       '2gencon':'Generation 2',\n",
    "                       '3gencon':'Generation 3', \n",
    "                       '4gencon':'Generation 4', \n",
    "                       '5gencon':'Generation 5', \n",
    "                       '6gencon':'Generation 6', \n",
    "                       '7gencon':'Generation 7', \n",
    "                       '8gencon':'Generation 8'}\n",
    "\n",
    "url = 'https://en.wikipedia.org/wiki/List_of_first_generation_home_video_game_consoles'\n",
    "response = requests.get(url)\n",
    "html = response.text\n",
    "soup = BeautifulSoup(html, 'html.parser')\n",
    "tables = soup.find_all('table', {'id': console_generations.keys()})\n",
    "console_tables = pd.read_html(str(tables))\n",
    "\n",
    "url = 'https://en.wikipedia.org/wiki/List_of_home_video_game_consoles'\n",
    "response = requests.get(url)\n",
    "html = response.text\n",
    "soup = BeautifulSoup(html, 'html.parser')\n",
    "tables = soup.find_all('table', {'id': console_generations.keys()})\n",
    "console_tables = console_tables + pd.read_html(str(tables))\n",
    "\n",
    "new_col_names = {'Console':'console', 'Name':'console', 'Console / Series': 'console', \n",
    " 'Year':'release', 'Release date': 'release', 'Release date / Lifespan of the series':'release',\n",
    "'Manufacturer':'manufacturer', 'Manufacturer / Country':'manufacturer'}\n",
    "\n",
    "for n, generation in enumerate(console_tables):\n",
    "    console_tables[n] = generation.rename(columns=new_col_names)\n",
    "    console_tables[n] = console_tables[n][['console', 'release', 'manufacturer']]\n",
    "    console_tables[n]['generation'] = list(console_generations.values())[n]\n",
    "\n",
    "consoles = pd.concat(console_tables)\n",
    "is_cancelled = consoles['release'].str.contains('cancelled', case=False)\n",
    "consoles = consoles[is_cancelled == False]\n",
    "\n",
    "consoles['release'] = consoles['release'].str.extract(r'(\\d{4})')[0].astype('int64')"
   ]
  },
  {
   "cell_type": "code",
   "execution_count": 6,
   "metadata": {},
   "outputs": [],
   "source": [
    "consoles.to_csv('data/consoles.csv', index=False)"
   ]
  }
 ],
 "metadata": {
  "kernelspec": {
   "display_name": "Python 3",
   "language": "python",
   "name": "python3"
  },
  "language_info": {
   "codemirror_mode": {
    "name": "ipython",
    "version": 3
   },
   "file_extension": ".py",
   "mimetype": "text/x-python",
   "name": "python",
   "nbconvert_exporter": "python",
   "pygments_lexer": "ipython3",
   "version": "3.7.3"
  }
 },
 "nbformat": 4,
 "nbformat_minor": 2
}
