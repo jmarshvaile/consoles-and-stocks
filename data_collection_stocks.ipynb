{
 "cells": [
  {
   "cell_type": "code",
   "execution_count": 1,
   "metadata": {},
   "outputs": [],
   "source": [
    "import pandas as pd\n",
    "import yfinance as yf"
   ]
  },
  {
   "cell_type": "code",
   "execution_count": 2,
   "metadata": {},
   "outputs": [
    {
     "name": "stdout",
     "output_type": "stream",
     "text": [
      "[*********************100%***********************]  1 of 1 completed\n",
      "[*********************100%***********************]  1 of 1 completed\n",
      "[*********************100%***********************]  1 of 1 completed\n",
      "[*********************100%***********************]  1 of 1 completed\n",
      "[*********************100%***********************]  1 of 1 completed\n",
      "[*********************100%***********************]  1 of 1 completed\n",
      "[*********************100%***********************]  1 of 1 completed\n",
      "[*********************100%***********************]  1 of 1 completed\n",
      "[*********************100%***********************]  1 of 1 completed\n",
      "[*********************100%***********************]  1 of 1 completed\n"
     ]
    }
   ],
   "source": [
    "tickers = ['^GSPC', '^DJI', '^IXIC', 'GME', 'WMT', 'BBY', 'TGT', 'MSFT', 'SNE', 'NTDOF']\n",
    "\n",
    "stocks = []\n",
    "for ticker in tickers:\n",
    "    stock = yf.download(ticker,'1972-01-01','2019-12-31')\n",
    "    stock['ticker'] = ticker\n",
    "    stocks = stocks + [stock]\n",
    "stocks = pd.concat(stocks).reset_index()\n",
    "\n",
    "stocks.columns = stocks.columns.str.lower()\n",
    "stocks.columns = stocks.columns.str.replace(' ', '_')\n",
    "\n",
    "stocks['year'] = stocks['date'].dt.year\n",
    "\n",
    "stocks_yearly = stocks.groupby(['ticker','year']).mean().reset_index()\n",
    "\n",
    "stocks_yearly.columns = ['ticker', 'year']+['avg_' + column for column in stocks_yearly.columns[2:]]"
   ]
  },
  {
   "cell_type": "code",
   "execution_count": 3,
   "metadata": {},
   "outputs": [],
   "source": [
    "stocks_yearly.to_csv('data/stocks.csv', index=False)"
   ]
  }
 ],
 "metadata": {
  "kernelspec": {
   "display_name": "Python 3",
   "language": "python",
   "name": "python3"
  },
  "language_info": {
   "codemirror_mode": {
    "name": "ipython",
    "version": 3
   },
   "file_extension": ".py",
   "mimetype": "text/x-python",
   "name": "python",
   "nbconvert_exporter": "python",
   "pygments_lexer": "ipython3",
   "version": "3.7.3"
  }
 },
 "nbformat": 4,
 "nbformat_minor": 2
}
